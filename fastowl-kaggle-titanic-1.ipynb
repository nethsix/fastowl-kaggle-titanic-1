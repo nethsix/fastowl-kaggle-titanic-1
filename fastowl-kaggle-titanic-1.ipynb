{
 "cells": [
  {
   "cell_type": "code",
   "execution_count": null,
   "metadata": {
    "collapsed": true
   },
   "outputs": [],
   "source": [
    "# Q1: How to prepare data for machine learning?\n",
    "# 1. Load data\n",
    "# 2. Select good features\n",
    "# 3. Derive features from existing ones\n",
    "# 4. Clean data\n",
    "# 5. Scale data"
   ]
  },
  {
   "cell_type": "code",
   "execution_count": null,
   "metadata": {
    "collapsed": true
   },
   "outputs": [],
   "source": [
    "# Q2: How to start data preparation?\n",
    "# Go http://tensorflow.fastowl.xyz\n",
    "# NOTE: #1 This requires a github account.\n",
    "# NOTE: #2 This opens a new browser tab/window, so come back here by looking for the correct browser tab/window."
   ]
  },
  {
   "cell_type": "code",
   "execution_count": null,
   "metadata": {
    "collapsed": true
   },
   "outputs": [],
   "source": [
    "# Q3: How to use use playground?\n",
    "# 1. Start 'Python' in your Jupyter notebook\n",
    "# 2. Input python code\n",
    "# 3. Run code\n",
    "# 4. See execution result"
   ]
  },
  {
   "cell_type": "code",
   "execution_count": 2,
   "metadata": {
    "collapsed": false
   },
   "outputs": [],
   "source": [
    "# Q4: How to load data?\n",
    "import pandas\n",
    "dataframe = pandas.read_csv('./data/train.csv')"
   ]
  },
  {
   "cell_type": "code",
   "execution_count": null,
   "metadata": {
    "collapsed": true
   },
   "outputs": [],
   "source": [
    "# Q5: How to upload data file?\n",
    "# 1. Select 'Upload'\n",
    "# 2. Select file & click 'Open'\n",
    "# 3. Click 'Upload' to complete\n",
    "# 4. Upload done"
   ]
  },
  {
   "cell_type": "code",
   "execution_count": 3,
   "metadata": {
    "collapsed": false
   },
   "outputs": [
    {
     "data": {
      "text/plain": [
       "Index(['PassengerId', 'Survived', 'Pclass', 'Name', 'Sex', 'Age', 'SibSp',\n",
       "       'Parch', 'Ticket', 'Fare', 'Cabin', 'Embarked'],\n",
       "      dtype='object')"
      ]
     },
     "execution_count": 3,
     "metadata": {},
     "output_type": "execute_result"
    }
   ],
   "source": [
    "# Q6: How to show data headers?\n",
    "dataframe.columns"
   ]
  },
  {
   "cell_type": "code",
   "execution_count": null,
   "metadata": {
    "collapsed": true
   },
   "outputs": [],
   "source": [
    "# Q7: How to select good features?\n",
    "# Guidelines for feature selection:\n",
    "# * The discrete features are not overly unique\n",
    "# * Continuous features once grouped/binned are not overly unique\n",
    "# * There are few empty or invalid values for that feature\n",
    "# * If the feature has few empty values or if many empty values, they can be derived, e.g., for numeric fields, they can be empty values can be replaced by average, etc.\n",
    "# * Determine if there is a correlation between a field and the outcome you want to predict"
   ]
  },
  {
   "cell_type": "code",
   "execution_count": 7,
   "metadata": {
    "collapsed": false
   },
   "outputs": [
    {
     "data": {
      "text/html": [
       "<div>\n",
       "<table border=\"1\" class=\"dataframe\">\n",
       "  <thead>\n",
       "    <tr style=\"text-align: right;\">\n",
       "      <th></th>\n",
       "      <th>PassengerId</th>\n",
       "      <th>Survived</th>\n",
       "      <th>Pclass</th>\n",
       "      <th>Name</th>\n",
       "      <th>Sex</th>\n",
       "      <th>Age</th>\n",
       "      <th>SibSp</th>\n",
       "      <th>Parch</th>\n",
       "      <th>Ticket</th>\n",
       "      <th>Fare</th>\n",
       "      <th>Cabin</th>\n",
       "      <th>Embarked</th>\n",
       "    </tr>\n",
       "  </thead>\n",
       "  <tbody>\n",
       "    <tr>\n",
       "      <th>count</th>\n",
       "      <td>891</td>\n",
       "      <td>891</td>\n",
       "      <td>891</td>\n",
       "      <td>891</td>\n",
       "      <td>891</td>\n",
       "      <td>891</td>\n",
       "      <td>891</td>\n",
       "      <td>891</td>\n",
       "      <td>891</td>\n",
       "      <td>891</td>\n",
       "      <td>891</td>\n",
       "      <td>891</td>\n",
       "    </tr>\n",
       "    <tr>\n",
       "      <th>unique</th>\n",
       "      <td>891</td>\n",
       "      <td>2</td>\n",
       "      <td>3</td>\n",
       "      <td>891</td>\n",
       "      <td>2</td>\n",
       "      <td>89</td>\n",
       "      <td>7</td>\n",
       "      <td>7</td>\n",
       "      <td>681</td>\n",
       "      <td>248</td>\n",
       "      <td>148</td>\n",
       "      <td>4</td>\n",
       "    </tr>\n",
       "    <tr>\n",
       "      <th>top</th>\n",
       "      <td>818</td>\n",
       "      <td>0</td>\n",
       "      <td>3</td>\n",
       "      <td>Augustsson, Mr. Albert</td>\n",
       "      <td>male</td>\n",
       "      <td>nan</td>\n",
       "      <td>0</td>\n",
       "      <td>0</td>\n",
       "      <td>347082</td>\n",
       "      <td>8.05</td>\n",
       "      <td>nan</td>\n",
       "      <td>S</td>\n",
       "    </tr>\n",
       "    <tr>\n",
       "      <th>freq</th>\n",
       "      <td>1</td>\n",
       "      <td>549</td>\n",
       "      <td>491</td>\n",
       "      <td>1</td>\n",
       "      <td>577</td>\n",
       "      <td>177</td>\n",
       "      <td>608</td>\n",
       "      <td>678</td>\n",
       "      <td>7</td>\n",
       "      <td>43</td>\n",
       "      <td>687</td>\n",
       "      <td>644</td>\n",
       "    </tr>\n",
       "  </tbody>\n",
       "</table>\n",
       "</div>"
      ],
      "text/plain": [
       "       PassengerId Survived Pclass                    Name   Sex  Age SibSp  \\\n",
       "count          891      891    891                     891   891  891   891   \n",
       "unique         891        2      3                     891     2   89     7   \n",
       "top            818        0      3  Augustsson, Mr. Albert  male  nan     0   \n",
       "freq             1      549    491                       1   577  177   608   \n",
       "\n",
       "       Parch  Ticket  Fare Cabin Embarked  \n",
       "count    891     891   891   891      891  \n",
       "unique     7     681   248   148        4  \n",
       "top        0  347082  8.05   nan        S  \n",
       "freq     678       7    43   687      644  "
      ]
     },
     "execution_count": 7,
     "metadata": {},
     "output_type": "execute_result"
    }
   ],
   "source": [
    "# Q8: How to determine feature uniqueness?\n",
    "# Convert all columns to 'str' before calling 'describe()' to get 'unique'\n",
    "dataframe_str = pandas.DataFrame()\n",
    "for col in dataframe.columns:\n",
    "  dataframe_str[col] = dataframe[col].map(lambda c: str(c))\n",
    "dataframe_str.describe()"
   ]
  },
  {
   "cell_type": "code",
   "execution_count": 6,
   "metadata": {
    "collapsed": false
   },
   "outputs": [
    {
     "data": {
      "text/plain": [
       "(891, 12)"
      ]
     },
     "execution_count": 6,
     "metadata": {},
     "output_type": "execute_result"
    }
   ],
   "source": [
    "# Q9: How to get dataframe size?\n",
    "# The shape should be (891, 12)\n",
    "# There are:\n",
    "# * 891 rows of data\n",
    "# * 12 columns/features \n",
    "dataframe.shape"
   ]
  },
  {
   "cell_type": "code",
   "execution_count": 5,
   "metadata": {
    "collapsed": false
   },
   "outputs": [
    {
     "data": {
      "text/plain": [
       "PassengerId      int64\n",
       "Survived         int64\n",
       "Pclass           int64\n",
       "Name            object\n",
       "Sex             object\n",
       "Age            float64\n",
       "SibSp            int64\n",
       "Parch            int64\n",
       "Ticket          object\n",
       "Fare           float64\n",
       "Cabin           object\n",
       "Embarked        object\n",
       "dtype: object"
      ]
     },
     "execution_count": 5,
     "metadata": {},
     "output_type": "execute_result"
    }
   ],
   "source": [
    "# Q10: How to show dataframe column types?\n",
    "# * All columns/features of type 'object' that have almost as many 'unique' values as data row count\n",
    "#   we need to further preprocess before using\n",
    "# * All columns/features of type 'object', 'int64' that have few 'unique' values are likely 'discrete'\n",
    "# * All columns/features of type 'int64' or 'float64' that have almost as many 'unique' values as data row count\n",
    "#   are likely 'continuous', and can be 'binned', i.e., 0-10, 11-20, etc.\n",
    "dataframe.dtypes"
   ]
  },
  {
   "cell_type": "code",
   "execution_count": null,
   "metadata": {
    "collapsed": true
   },
   "outputs": [],
   "source": [
    "# Q11: Does <feature column name> affect <outcome column name>?\n",
    "# From Q8, Q9, Q10, we can gather that:\n",
    "# outcome column name:\n",
    "# * Survived, which we want to predict is 'discrete', either 0, or 1\n",
    "# feature column name:\n",
    "# * discrete: Pclass, Sex, SipSp, Parch, Embarked\n",
    "# * continuous bin: Age, Fare\n",
    "# * need preprocessing: Name, Ticket, Cabin"
   ]
  },
  {
   "cell_type": "code",
   "execution_count": 9,
   "metadata": {
    "collapsed": false
   },
   "outputs": [
    {
     "data": {
      "text/plain": [
       "<matplotlib.text.Text at 0x10790bba8>"
      ]
     },
     "execution_count": 9,
     "metadata": {},
     "output_type": "execute_result"
    },
    {
     "data": {
      "image/png": "[encoded data removed]",
      "text/plain": [
       "<matplotlib.figure.Figure at 0x106aab1d0>"
      ]
     },
     "metadata": {},
     "output_type": "display_data"
    },
    {
     "data": {
      "image/png": "[encoded data removed]",
      "text/plain": [
       "<matplotlib.figure.Figure at 0x1078f8ef0>"
      ]
     },
     "metadata": {},
     "output_type": "display_data"
    }
   ],
   "source": [
    "# Q11a: Does Pclass affect Survived?\n",
    "# NOTE: We are plotting outcome Survived, which is 'discrete' against a feature 'Pclass', which is 'discrete'\n",
    "%matplotlib inline\n",
    "dataframe_1 = dataframe.groupby(['Pclass','Survived'])['Survived'].count().unstack('Survived')\n",
    "# Plot Survived absolute values\n",
    "axis_1 = dataframe_1.plot(kind='bar', stacked=True)\n",
    "axis_1.set_ylabel('Survived count')\n",
    "axis_1.set_xlabel('Pclass')\n",
    "# Plot Survived percentages\n",
    "total_by_Pclass = dataframe_1.sum(axis=1)\n",
    "dataframe_2 = dataframe_1.divide(total_by_Pclass, axis=0)\n",
    "axis_2 = dataframe_2.plot(kind='bar', stacked=True)\n",
    "axis_2.set_ylabel('Survived %')\n",
    "axis_2.set_xlabel('Pclass')"
   ]
  },
  {
   "cell_type": "code",
   "execution_count": 10,
   "metadata": {
    "collapsed": false
   },
   "outputs": [
    {
     "data": {
      "text/plain": [
       "<matplotlib.text.Text at 0x107d1b278>"
      ]
     },
     "execution_count": 10,
     "metadata": {},
     "output_type": "execute_result"
    },
    {
     "data": {
      "image/png": "[encoded data removed]",
      "text/plain": [
       "<matplotlib.figure.Figure at 0x106c32208>"
      ]
     },
     "metadata": {},
     "output_type": "display_data"
    },
    {
     "data": {
      "image/png": "[encoded data removed]",
      "text/plain": [
       "<matplotlib.figure.Figure at 0x10787ac18>"
      ]
     },
     "metadata": {},
     "output_type": "display_data"
    }
   ],
   "source": [
    "# Q11b: Does Age affect Survived?\n",
    "# NOTE: We are plotting outcome Survived, which is 'discrete' against a feature 'Pclass', which is 'continuous bin'\n",
    "import math\n",
    "max_size = dataframe['Age'].max()\n",
    "bin_size = 5\n",
    "# bins will contain [0, 5, 10, ... ]\n",
    "bins = [i for i in range(0,math.ceil(max_size+bin_size),bin_size)]\n",
    "# labels will same as bin except one element less at the end\n",
    "labels = bins[0:-1]\n",
    "dataframe['AgeBin'] = pandas.cut(dataframe['Age'], bins=bins, labels=labels)\n",
    "# Plot Survived absolute values\n",
    "dataframe_1 = dataframe.groupby(['AgeBin', 'Survived'])['Survived'].count().unstack('Survived').fillna(0)\n",
    "axis_1 = dataframe_1.plot(kind='bar',stacked=True)\n",
    "axis_1.set_ylabel('Survived count')\n",
    "axis_1.set_xlabel('Age')\n",
    "# Plot Survived percentages\n",
    "total_by_Age = dataframe_1.sum(axis=1)\n",
    "dataframe_2 = dataframe_1.divide(total_by_Age, axis=0)\n",
    "axis_2 = dataframe_2.plot(kind='bar', stacked=True)\n",
    "axis_2.set_ylabel('Survived %')\n",
    "axis_2.set_xlabel('Age')"
   ]
  },
  {
   "cell_type": "code",
   "execution_count": 14,
   "metadata": {
    "collapsed": false
   },
   "outputs": [
    {
     "data": {
      "image/png": "[encoded data removed]",
      "text/plain": [
       "<matplotlib.figure.Figure at 0x10863a630>"
      ]
     },
     "metadata": {},
     "output_type": "display_data"
    },
    {
     "data": {
      "image/png": "[encoded data removed]",
      "text/plain": [
       "<matplotlib.figure.Figure at 0x108e718d0>"
      ]
     },
     "metadata": {},
     "output_type": "display_data"
    },
    {
     "data": {
      "image/png": "[encoded data removed]",
      "text/plain": [
       "<matplotlib.figure.Figure at 0x106b52eb8>"
      ]
     },
     "metadata": {},
     "output_type": "display_data"
    },
    {
     "data": {
      "image/png": "[encoded data removed]",
      "text/plain": [
       "<matplotlib.figure.Figure at 0x108e2add8>"
      ]
     },
     "metadata": {},
     "output_type": "display_data"
    },
    {
     "data": {
      "image/png": "[encoded data removed]",
      "text/plain": [
       "<matplotlib.figure.Figure at 0x108e18828>"
      ]
     },
     "metadata": {},
     "output_type": "display_data"
    }
   ],
   "source": [
    "# We repeat for all 'discrete features'\n",
    "# But we create only percentage plots\n",
    "discrete_features = ['Pclass', 'Sex', 'SibSp', 'Parch', 'Embarked']\n",
    "for f in discrete_features:\n",
    "    dataframe_1 = dataframe.groupby([f,'Survived'])['Survived'].count().unstack('Survived')\n",
    "    # Plot Survived percentages\n",
    "    total_by_f = dataframe_1.sum(axis=1)\n",
    "    dataframe_2 = dataframe_1.divide(total_by_f, axis=0)\n",
    "    axis_2 = dataframe_2.plot(kind='bar', stacked=True)\n",
    "    axis_2.set_ylabel('Survived %')\n",
    "    axis_2.set_xlabel(f)"
   ]
  },
  {
   "cell_type": "code",
   "execution_count": 15,
   "metadata": {
    "collapsed": false
   },
   "outputs": [
    {
     "data": {
      "image/png": "[encoded data removed]",
      "text/plain": [
       "<matplotlib.figure.Figure at 0x106a3beb8>"
      ]
     },
     "metadata": {},
     "output_type": "display_data"
    },
    {
     "data": {
      "image/png": "[encoded data removed]",
      "text/plain": [
       "<matplotlib.figure.Figure at 0x106a50f98>"
      ]
     },
     "metadata": {},
     "output_type": "display_data"
    }
   ],
   "source": [
    "# We repeat for all 'continuous bin features'\n",
    "# But we create only percentage plots\n",
    "import math\n",
    "continuous_bin_features = ['Age', 'Fare']\n",
    "for f in continuous_bin_features:\n",
    "    max_size = dataframe[f].max()\n",
    "    bin_size = 5\n",
    "    # bins will contain [0, 5, 10, ... ]\n",
    "    bins = [i for i in range(0,math.ceil(max_size+bin_size),bin_size)]\n",
    "    # labels will same as bin except one element less at the end\n",
    "    labels = bins[0:-1]\n",
    "    dataframe[f+'Bin'] = pandas.cut(dataframe[f], bins=bins, labels=labels)\n",
    "    dataframe_1 = dataframe.groupby([f+'Bin', 'Survived'])['Survived'].count().unstack('Survived').fillna(0)\n",
    "    # Plot Survived percentages\n",
    "    total_by_Age = dataframe_1.sum(axis=1)\n",
    "    dataframe_2 = dataframe_1.divide(total_by_Age, axis=0)\n",
    "    axis_2 = dataframe_2.plot(kind='bar', stacked=True)\n",
    "    axis_2.set_ylabel('Survived %')\n",
    "    axis_2.set_xlabel(f)"
   ]
  },
  {
   "cell_type": "code",
   "execution_count": null,
   "metadata": {
    "collapsed": true
   },
   "outputs": [],
   "source": []
  }
 ],
 "metadata": {
  "kernelspec": {
   "display_name": "Python 3",
   "language": "python",
   "name": "python3"
  },
  "language_info": {
   "codemirror_mode": {
    "name": "ipython",
    "version": 3
   },
   "file_extension": ".py",
   "mimetype": "text/x-python",
   "name": "python",
   "nbconvert_exporter": "python",
   "pygments_lexer": "ipython3",
   "version": "3.5.2"
  }
 },
 "nbformat": 4,
 "nbformat_minor": 0
}
